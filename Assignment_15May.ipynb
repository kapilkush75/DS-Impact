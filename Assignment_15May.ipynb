{
  "nbformat": 4,
  "nbformat_minor": 0,
  "metadata": {
    "colab": {
      "provenance": [],
      "authorship_tag": "ABX9TyMdBatfl+GSvxK7UjiNcfIA",
      "include_colab_link": true
    },
    "kernelspec": {
      "name": "python3",
      "display_name": "Python 3"
    },
    "language_info": {
      "name": "python"
    }
  },
  "cells": [
    {
      "cell_type": "markdown",
      "metadata": {
        "id": "view-in-github",
        "colab_type": "text"
      },
      "source": [
        "<a href=\"https://colab.research.google.com/github/kapilkush75/DS-Impact/blob/main/Assignment_15May.ipynb\" target=\"_parent\"><img src=\"https://colab.research.google.com/assets/colab-badge.svg\" alt=\"Open In Colab\"/></a>"
      ]
    },
    {
      "cell_type": "markdown",
      "source": [
        "\n",
        "Note: Create your assignment in Jupyter notebook and upload it to GitHub & share that github repository\n",
        "link through your dashboard. Make sure the repository is public."
      ],
      "metadata": {
        "id": "k3rULEXCDwx6"
      }
    },
    {
      "cell_type": "markdown",
      "source": [
        "Q1. How do you comment code in Python? What are the different types of comments?"
      ],
      "metadata": {
        "id": "NHzBXIFMDEh1"
      }
    },
    {
      "cell_type": "markdown",
      "source": [
        "Answer1:\n",
        "\n",
        "#This is a comment\n",
        "#written in\n",
        "\n",
        "print(\"Hello, World!\") # Code line Comments\n",
        "\n",
        "'''\n",
        "Multiple line comments using '''\n",
        "'''\n",
        "\n",
        "\"\"\"\n",
        "Multiple line comments using \"\"\"\n",
        "\"\"\""
      ],
      "metadata": {
        "id": "AgDtwKnpD_UY"
      }
    },
    {
      "cell_type": "markdown",
      "source": [
        "Q2. What are variables in Python? How do you declare and assign values to variables?\n"
      ],
      "metadata": {
        "id": "2dQ036E-DM79"
      }
    },
    {
      "cell_type": "code",
      "source": [
        "### Answer\n",
        "### Python has no command for declaring a variable. A variable is created the moment you first assign a value to it.\n",
        "### Scope of Variable Global or Local\n",
        "### Global Variables : Variables that are created outside of a function (as in all of the examples above) are known as global variables.\n",
        "###                    Global variables can be used by everyone, both inside of functions and outside.\n",
        "### Examples\n",
        "\n",
        "x = str(3)    # x will be '3'\n",
        "y = int(3)    # y will be 3\n",
        "z = float(3)  # z will be 3.0\n",
        "print(type(x),x)\n",
        "print(type(y\n",
        "x = 5\n",
        "y = \"John\"\n",
        "print(x)\n",
        "print(y)),y)\n",
        "print(type(z),z)"
      ],
      "metadata": {
        "colab": {
          "base_uri": "https://localhost:8080/"
        },
        "id": "Owfg30IIEqae",
        "outputId": "5329a350-626f-4c54-a792-469586292350"
      },
      "execution_count": 5,
      "outputs": [
        {
          "output_type": "stream",
          "name": "stdout",
          "text": [
            "5\n",
            "John\n",
            "<class 'str'> 3\n",
            "<class 'int'> 3\n",
            "<class 'float'> 3.0\n"
          ]
        }
      ]
    },
    {
      "cell_type": "markdown",
      "source": [
        "Q3. How do you convert one data type to another in Python?"
      ],
      "metadata": {
        "id": "1kkbIyFPDSc9"
      }
    },
    {
      "cell_type": "code",
      "source": [
        "### Answer\n",
        "### To convert between types, you simply use the type name as a function.\n",
        "\n",
        "## There are several built-in functions to perform conversion from one data type to another.\n",
        "## These functions return a new object representing the converted value.\n",
        "\n",
        "int(x [,base]) # Converts x to an integer. base specifies the base if x is a string.\n",
        "long(x [,base] ) # Converts x to a long integer. base specifies the base if x is a string.\n",
        "float(x) # Converts x to a floating-point number.\n",
        "complex(real [,imag]) # Creates a complex number.\n",
        "str(x) # Converts object x to a string representation.\n",
        "repr(x) # Converts object x to an expression string.\n",
        "eval(str) # Evaluates a string and returns an object.\n",
        "tuple(s) # Converts s to a tuple.\n",
        "list(s) # Converts s to a list.\n",
        "set(s) #Converts s to a set.\n",
        "dict(d) # Creates a dictionary. d must be a sequence of (key,value) tuples.\n",
        "frozenset(s) # Converts s to a frozen set.\n",
        "chr(x) # Converts an integer to a character.\n",
        "unichr(x)  # Converts an integer to a Unicode character.\n",
        "ord(x) # Converts a single character to its integer value.\n",
        "hex(x) # Converts an integer to a hexadecimal string.\n",
        "oct(x) # Converts an integer to an octal string."
      ],
      "metadata": {
        "id": "WMSx6lapF7Fz"
      },
      "execution_count": null,
      "outputs": []
    },
    {
      "cell_type": "markdown",
      "source": [
        "Q4. How do you write and execute a Python script from the command line?"
      ],
      "metadata": {
        "id": "6-V37bFeDN9z"
      }
    },
    {
      "cell_type": "markdown",
      "source": [
        "### Answer\n",
        "Command Prompt>python \"<file path>/<filename.py> <enter>"
      ],
      "metadata": {
        "id": "utWVes9zICwx"
      }
    },
    {
      "cell_type": "markdown",
      "source": [
        "Q5. Given a list my_list = [1, 2, 3, 4, 5], write the code to slice the list and obtain the sub-list [2, 3]."
      ],
      "metadata": {
        "id": "oAnwudUfDXFJ"
      }
    },
    {
      "cell_type": "code",
      "source": [
        " ## Answer\n",
        " my_list = list([1, 2, 3, 4, 5])\n",
        " my_list[1:3]"
      ],
      "metadata": {
        "colab": {
          "base_uri": "https://localhost:8080/"
        },
        "id": "a1l9kl3tIRKp",
        "outputId": "f65aed8f-de1a-423c-f8f9-4957a3237460"
      },
      "execution_count": 8,
      "outputs": [
        {
          "output_type": "execute_result",
          "data": {
            "text/plain": [
              "[2, 3]"
            ]
          },
          "metadata": {},
          "execution_count": 8
        }
      ]
    },
    {
      "cell_type": "markdown",
      "source": [
        "Q7. What is the correct way to declare a variable named age and assign the value 25 to it?"
      ],
      "metadata": {
        "id": "dL882Z1zDcu0"
      }
    },
    {
      "cell_type": "code",
      "source": [
        "age = float(25)\n",
        "type(age)"
      ],
      "metadata": {
        "colab": {
          "base_uri": "https://localhost:8080/"
        },
        "id": "cXGN6sr9Ihnj",
        "outputId": "75511bae-8e96-4063-c2d9-b533d390bc57"
      },
      "execution_count": 11,
      "outputs": [
        {
          "output_type": "execute_result",
          "data": {
            "text/plain": [
              "float"
            ]
          },
          "metadata": {},
          "execution_count": 11
        }
      ]
    },
    {
      "cell_type": "markdown",
      "source": [
        " Q8. Declare a variable named price and assign the value 9.99 to it. What data type does this variable belong to?"
      ],
      "metadata": {
        "id": "U9vprCpbDdY_"
      }
    },
    {
      "cell_type": "code",
      "source": [
        "price = float(9.99)\n",
        "type(price)"
      ],
      "metadata": {
        "colab": {
          "base_uri": "https://localhost:8080/"
        },
        "id": "rW6oIIAkIvgo",
        "outputId": "63863560-3320-450c-c457-581405520f1e"
      },
      "execution_count": 12,
      "outputs": [
        {
          "output_type": "execute_result",
          "data": {
            "text/plain": [
              "float"
            ]
          },
          "metadata": {},
          "execution_count": 12
        }
      ]
    },
    {
      "cell_type": "markdown",
      "source": [
        "Q10. Given the string \"Hello, World!\", extract the substring \"World\"."
      ],
      "metadata": {
        "id": "fUzI9y9IDhn5"
      }
    },
    {
      "cell_type": "code",
      "source": [
        "import numpy as np\n",
        "str1 = \"Hello, World\"\n",
        "idx = str1.index(\"World\")\n",
        "str1[idx:idx+5]"
      ],
      "metadata": {
        "colab": {
          "base_uri": "https://localhost:8080/",
          "height": 35
        },
        "id": "bG-ZQw_gI17F",
        "outputId": "6f18613a-3d7d-4b80-e524-437ae51f3368"
      },
      "execution_count": 30,
      "outputs": [
        {
          "output_type": "execute_result",
          "data": {
            "text/plain": [
              "'World'"
            ],
            "application/vnd.google.colaboratory.intrinsic+json": {
              "type": "string"
            }
          },
          "metadata": {},
          "execution_count": 30
        }
      ]
    },
    {
      "cell_type": "markdown",
      "source": [
        "Q11. Create a variable named \"is_student\" and assign it a boolean value indicating whether you are currently a student or not."
      ],
      "metadata": {
        "id": "bkMGp2vhDkwb"
      }
    },
    {
      "cell_type": "code",
      "execution_count": 35,
      "metadata": {
        "colab": {
          "base_uri": "https://localhost:8080/"
        },
        "id": "2i0wWpcXCPrL",
        "outputId": "50c00cf9-c8d4-4b1b-f012-875872935e27"
      },
      "outputs": [
        {
          "output_type": "stream",
          "name": "stdout",
          "text": [
            "Not a Student\n"
          ]
        }
      ],
      "source": [
        "\n",
        "is_student = False\n",
        "if( not is_student):\n",
        "  print(\"Not a Student\")\n",
        "else :\n",
        "  print(\"Is a Student\")"
      ]
    }
  ]
}